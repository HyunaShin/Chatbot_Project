{
 "cells": [
  {
   "cell_type": "code",
   "execution_count": 1,
   "metadata": {},
   "outputs": [],
   "source": [
    "import get_information as gi\n",
    "import connections as cnnt"
   ]
  },
  {
   "cell_type": "code",
   "execution_count": 2,
   "metadata": {
    "scrolled": false
   },
   "outputs": [
    {
     "name": "stdout",
     "output_type": "stream",
     "text": [
      "['172420', '152669', '162014', '159647', '154285', '68291', '168017', '174804', '174811', '152689', '156098', '173958', '104390', '158623', '158558', '166482', '81240', '147388', '167049', '168693', '167100', '171441', '174257', '165321', '171413', '144693', '154550', '171415', '143776', '170206', '158178', '164183', '155263', '162395', '171414', '159105', '144959', '174617', '149236', '171822', '154226', '156584', '170289', '167048', '172034', '159877', '165020', '164684', '154251', '169347', '164290', '136315', '157243', '159827', '173459', '162715', '142250', '10230', '173653', '159366', '158611', '150658', '159311', '171440', '155567', '164719', '171828', '153936', '162869', '165722', '106360', '164979', '164335', '156912', '169349', '144379', '99093', '162933', '154112', '153621', '155123', '152173', '145376', '67786', '132989', '38851', '46954', '10593', '106027', '30012']\n"
     ]
    }
   ],
   "source": [
    "to_craw_list = gi.make_craw_list()\n",
    "print(to_craw_list)"
   ]
  },
  {
   "cell_type": "code",
   "execution_count": 3,
   "metadata": {
    "scrolled": true
   },
   "outputs": [
    {
     "name": "stdout",
     "output_type": "stream",
     "text": [
      "초기화완료!\n"
     ]
    }
   ],
   "source": [
    "cnnt.initialize()"
   ]
  },
  {
   "cell_type": "code",
   "execution_count": null,
   "metadata": {},
   "outputs": [],
   "source": []
  },
  {
   "cell_type": "code",
   "execution_count": 4,
   "metadata": {
    "scrolled": false
   },
   "outputs": [
    {
     "name": "stdout",
     "output_type": "stream",
     "text": [
      "데이터베이스에 저장 완료!\n",
      "데이터베이스에 저장 완료!\n",
      "데이터베이스에 저장 완료!\n",
      "데이터베이스에 저장 완료!\n",
      "데이터베이스에 저장 완료!\n",
      "데이터베이스에 저장 완료!\n",
      "데이터베이스에 저장 완료!\n",
      "데이터베이스에 저장 완료!\n",
      "데이터베이스에 저장 완료!\n",
      "데이터베이스에 저장 완료!\n",
      "데이터베이스에 저장 완료!\n",
      "데이터베이스에 저장 완료!\n",
      "데이터베이스에 저장 완료!\n",
      "데이터베이스에 저장 완료!\n",
      "데이터베이스에 저장 완료!\n",
      "데이터베이스에 저장 완료!\n",
      "데이터베이스에 저장 완료!\n",
      "데이터베이스에 저장 완료!\n",
      "데이터베이스에 저장 완료!\n",
      "데이터베이스에 저장 완료!\n",
      "데이터베이스에 저장 완료!\n",
      "데이터베이스에 저장 완료!\n",
      "데이터베이스에 저장 완료!\n",
      "데이터베이스에 저장 완료!\n",
      "데이터베이스에 저장 완료!\n",
      "데이터베이스에 저장 완료!\n",
      "데이터베이스에 저장 완료!\n",
      "데이터베이스에 저장 완료!\n",
      "데이터베이스에 저장 완료!\n",
      "데이터베이스에 저장 완료!\n",
      "데이터베이스에 저장 완료!\n",
      "데이터베이스에 저장 완료!\n",
      "데이터베이스에 저장 완료!\n",
      "데이터베이스에 저장 완료!\n",
      "데이터베이스에 저장 완료!\n",
      "데이터베이스에 저장 완료!\n",
      "데이터베이스에 저장 완료!\n",
      "데이터베이스에 저장 완료!\n",
      "데이터베이스에 저장 완료!\n",
      "데이터베이스에 저장 완료!\n",
      "데이터베이스에 저장 완료!\n",
      "데이터베이스에 저장 완료!\n",
      "데이터베이스에 저장 완료!\n",
      "데이터베이스에 저장 완료!\n",
      "데이터베이스에 저장 완료!\n",
      "데이터베이스에 저장 완료!\n",
      "데이터베이스에 저장 완료!\n",
      "데이터베이스에 저장 완료!\n",
      "데이터베이스에 저장 완료!\n",
      "데이터베이스에 저장 완료!\n"
     ]
    },
    {
     "ename": "ValueError",
     "evalue": "unconverted data remains:  2017.06.10",
     "output_type": "error",
     "traceback": [
      "\u001b[1;31m---------------------------------------------------------------------------\u001b[0m",
      "\u001b[1;31mValueError\u001b[0m                                Traceback (most recent call last)",
      "\u001b[1;32m<ipython-input-4-b97a5fbeaf72>\u001b[0m in \u001b[0;36m<module>\u001b[1;34m()\u001b[0m\n\u001b[0;32m      1\u001b[0m \u001b[1;32mfor\u001b[0m \u001b[0mi\u001b[0m \u001b[1;32min\u001b[0m \u001b[0mrange\u001b[0m\u001b[1;33m(\u001b[0m\u001b[0mlen\u001b[0m\u001b[1;33m(\u001b[0m\u001b[0mto_craw_list\u001b[0m\u001b[1;33m)\u001b[0m\u001b[1;33m)\u001b[0m\u001b[1;33m:\u001b[0m\u001b[1;33m\u001b[0m\u001b[0m\n\u001b[1;32m----> 2\u001b[1;33m     \u001b[0mgi\u001b[0m\u001b[1;33m.\u001b[0m\u001b[0mget_by_moviecode\u001b[0m\u001b[1;33m(\u001b[0m\u001b[0mto_craw_list\u001b[0m\u001b[1;33m[\u001b[0m\u001b[0mi\u001b[0m\u001b[1;33m]\u001b[0m\u001b[1;33m)\u001b[0m\u001b[1;33m\u001b[0m\u001b[0m\n\u001b[0m\u001b[0;32m      3\u001b[0m \u001b[0mprint\u001b[0m\u001b[1;33m(\u001b[0m\u001b[1;34m\"저장 완료!\"\u001b[0m\u001b[1;33m)\u001b[0m\u001b[1;33m\u001b[0m\u001b[0m\n",
      "\u001b[1;32mD:\\workspace\\Chatbot\\Chatbot_Project\\get_information.py\u001b[0m in \u001b[0;36mget_by_moviecode\u001b[1;34m(moviecode)\u001b[0m\n\u001b[0;32m     80\u001b[0m     \u001b[0mmovieurl\u001b[0m \u001b[1;33m=\u001b[0m \u001b[1;34mf\"https://movie.naver.com/movie/bi/mi/basic.nhn?code={moviecode}\"\u001b[0m\u001b[1;33m\u001b[0m\u001b[0m\n\u001b[0;32m     81\u001b[0m     \u001b[0msoup\u001b[0m \u001b[1;33m=\u001b[0m \u001b[0mBeautifulSoup\u001b[0m\u001b[1;33m(\u001b[0m\u001b[0mget_source\u001b[0m\u001b[1;33m(\u001b[0m\u001b[0mmovieurl\u001b[0m\u001b[1;33m)\u001b[0m\u001b[1;33m,\u001b[0m \u001b[1;34m\"lxml\"\u001b[0m\u001b[1;33m)\u001b[0m\u001b[1;33m\u001b[0m\u001b[0m\n\u001b[1;32m---> 82\u001b[1;33m     \u001b[0ma\u001b[0m \u001b[1;33m=\u001b[0m \u001b[0mget_movie_info\u001b[0m\u001b[1;33m(\u001b[0m\u001b[0mmoviecode\u001b[0m\u001b[1;33m,\u001b[0m \u001b[0msoup\u001b[0m\u001b[1;33m)\u001b[0m\u001b[1;33m\u001b[0m\u001b[0m\n\u001b[0m\u001b[0;32m     83\u001b[0m     \u001b[1;32mreturn\u001b[0m \u001b[0ma\u001b[0m\u001b[1;33m\u001b[0m\u001b[0m\n\u001b[0;32m     84\u001b[0m \u001b[1;33m\u001b[0m\u001b[0m\n",
      "\u001b[1;32mD:\\workspace\\Chatbot\\Chatbot_Project\\get_information.py\u001b[0m in \u001b[0;36mget_movie_info\u001b[1;34m(moviecode, soup)\u001b[0m\n\u001b[0;32m    129\u001b[0m     \u001b[1;31m#개봉일\u001b[0m\u001b[1;33m\u001b[0m\u001b[1;33m\u001b[0m\u001b[0m\n\u001b[0;32m    130\u001b[0m     \u001b[0mopen_date\u001b[0m \u001b[1;33m=\u001b[0m \u001b[1;34m\"\"\u001b[0m\u001b[1;33m.\u001b[0m\u001b[0mjoin\u001b[0m\u001b[1;33m(\u001b[0m\u001b[0mmake_list\u001b[0m\u001b[1;33m(\u001b[0m\u001b[0msoup\u001b[0m\u001b[1;33m,\u001b[0m \u001b[1;36m3\u001b[0m\u001b[1;33m)\u001b[0m\u001b[1;33m)\u001b[0m\u001b[1;33m.\u001b[0m\u001b[0mlstrip\u001b[0m\u001b[1;33m(\u001b[0m\u001b[1;33m)\u001b[0m\u001b[1;33m\u001b[0m\u001b[0m\n\u001b[1;32m--> 131\u001b[1;33m     \u001b[0mopen_date\u001b[0m \u001b[1;33m=\u001b[0m \u001b[0mdatetime\u001b[0m\u001b[1;33m.\u001b[0m\u001b[0mdatetime\u001b[0m\u001b[1;33m.\u001b[0m\u001b[0mstrptime\u001b[0m\u001b[1;33m(\u001b[0m\u001b[0mopen_date\u001b[0m\u001b[1;33m,\u001b[0m \u001b[1;34m'%Y.%m.%d'\u001b[0m\u001b[1;33m)\u001b[0m\u001b[1;33m.\u001b[0m\u001b[0mdate\u001b[0m\u001b[1;33m(\u001b[0m\u001b[1;33m)\u001b[0m\u001b[1;33m\u001b[0m\u001b[0m\n\u001b[0m\u001b[0;32m    132\u001b[0m \u001b[1;33m\u001b[0m\u001b[0m\n\u001b[0;32m    133\u001b[0m     \u001b[1;31m#감독\u001b[0m\u001b[1;33m\u001b[0m\u001b[1;33m\u001b[0m\u001b[0m\n",
      "\u001b[1;32m~\\Miniconda3\\lib\\_strptime.py\u001b[0m in \u001b[0;36m_strptime_datetime\u001b[1;34m(cls, data_string, format)\u001b[0m\n\u001b[0;32m    563\u001b[0m     \"\"\"Return a class cls instance based on the input string and the\n\u001b[0;32m    564\u001b[0m     format string.\"\"\"\n\u001b[1;32m--> 565\u001b[1;33m     \u001b[0mtt\u001b[0m\u001b[1;33m,\u001b[0m \u001b[0mfraction\u001b[0m \u001b[1;33m=\u001b[0m \u001b[0m_strptime\u001b[0m\u001b[1;33m(\u001b[0m\u001b[0mdata_string\u001b[0m\u001b[1;33m,\u001b[0m \u001b[0mformat\u001b[0m\u001b[1;33m)\u001b[0m\u001b[1;33m\u001b[0m\u001b[0m\n\u001b[0m\u001b[0;32m    566\u001b[0m     \u001b[0mtzname\u001b[0m\u001b[1;33m,\u001b[0m \u001b[0mgmtoff\u001b[0m \u001b[1;33m=\u001b[0m \u001b[0mtt\u001b[0m\u001b[1;33m[\u001b[0m\u001b[1;33m-\u001b[0m\u001b[1;36m2\u001b[0m\u001b[1;33m:\u001b[0m\u001b[1;33m]\u001b[0m\u001b[1;33m\u001b[0m\u001b[0m\n\u001b[0;32m    567\u001b[0m     \u001b[0margs\u001b[0m \u001b[1;33m=\u001b[0m \u001b[0mtt\u001b[0m\u001b[1;33m[\u001b[0m\u001b[1;33m:\u001b[0m\u001b[1;36m6\u001b[0m\u001b[1;33m]\u001b[0m \u001b[1;33m+\u001b[0m \u001b[1;33m(\u001b[0m\u001b[0mfraction\u001b[0m\u001b[1;33m,\u001b[0m\u001b[1;33m)\u001b[0m\u001b[1;33m\u001b[0m\u001b[0m\n",
      "\u001b[1;32m~\\Miniconda3\\lib\\_strptime.py\u001b[0m in \u001b[0;36m_strptime\u001b[1;34m(data_string, format)\u001b[0m\n\u001b[0;32m    363\u001b[0m     \u001b[1;32mif\u001b[0m \u001b[0mlen\u001b[0m\u001b[1;33m(\u001b[0m\u001b[0mdata_string\u001b[0m\u001b[1;33m)\u001b[0m \u001b[1;33m!=\u001b[0m \u001b[0mfound\u001b[0m\u001b[1;33m.\u001b[0m\u001b[0mend\u001b[0m\u001b[1;33m(\u001b[0m\u001b[1;33m)\u001b[0m\u001b[1;33m:\u001b[0m\u001b[1;33m\u001b[0m\u001b[0m\n\u001b[0;32m    364\u001b[0m         raise ValueError(\"unconverted data remains: %s\" %\n\u001b[1;32m--> 365\u001b[1;33m                           data_string[found.end():])\n\u001b[0m\u001b[0;32m    366\u001b[0m \u001b[1;33m\u001b[0m\u001b[0m\n\u001b[0;32m    367\u001b[0m     \u001b[0miso_year\u001b[0m \u001b[1;33m=\u001b[0m \u001b[0myear\u001b[0m \u001b[1;33m=\u001b[0m \u001b[1;32mNone\u001b[0m\u001b[1;33m\u001b[0m\u001b[0m\n",
      "\u001b[1;31mValueError\u001b[0m: unconverted data remains:  2017.06.10"
     ]
    }
   ],
   "source": [
    "for i in range(len(to_craw_list)):\n",
    "    gi.get_by_moviecode(to_craw_list[i])\n",
    "print(\"저장 완료!\")"
   ]
  },
  {
   "cell_type": "code",
   "execution_count": null,
   "metadata": {},
   "outputs": [],
   "source": []
  },
  {
   "cell_type": "code",
   "execution_count": null,
   "metadata": {},
   "outputs": [],
   "source": []
  }
 ],
 "metadata": {
  "kernelspec": {
   "display_name": "Python 3",
   "language": "python",
   "name": "python3"
  },
  "language_info": {
   "codemirror_mode": {
    "name": "ipython",
    "version": 3
   },
   "file_extension": ".py",
   "mimetype": "text/x-python",
   "name": "python",
   "nbconvert_exporter": "python",
   "pygments_lexer": "ipython3",
   "version": "3.6.4"
  }
 },
 "nbformat": 4,
 "nbformat_minor": 2
}
