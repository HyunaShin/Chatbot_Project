{
 "cells": [
  {
   "cell_type": "code",
   "execution_count": 13,
   "metadata": {},
   "outputs": [],
   "source": [
    "import urllib.request\n",
    "import pprint as pp\n",
    "import datetime, pymysql, json\n",
    "import matplotlib as mpl\n",
    "import matplotlib.pyplot as plt\n",
    "import matplotlib.font_manager as fm\n",
    "import pandas as pd\n",
    "from models import *\n",
    "from sqlalchemy.orm import sessionmaker\n",
    "from sqlalchemy import create_engine, and_\n",
    "%matplotlib inline\n",
    "import numpy as np\n",
    "import connections as cnnt\n"
   ]
  },
  {
   "cell_type": "code",
   "execution_count": null,
   "metadata": {},
   "outputs": [],
   "source": [
    "curs, engine, session = cnnt.cursor()\n",
    "data=open(\"config.json\").read()\n",
    "json_data = json.loads(data)\n",
    "\n",
    "user = json_data[\"users\"][0][\"user\"]\n",
    "password = json_data[\"users\"][0][\"password\"]\n",
    "host = json_data[\"users\"][0][\"host\"]\n",
    "port = json_data[\"users\"][0][\"port\"]\n",
    "DB = json_data[\"users\"][0][\"DB\"]\n",
    "kobis_key = json_data[\"users\"][0][\"kobis_key\"]"
   ]
  },
  {
   "cell_type": "code",
   "execution_count": 30,
   "metadata": {},
   "outputs": [],
   "source": [
    "#인섵하는 함수. 헬프함수\n",
    "def insert_into_db(movie_table):\n",
    "    session = cnnt.cursor()[2]\n",
    "    movie_table = pd.DataFrame(movie_table).fillna(-1)\n",
    "    for movie_name, section_audi in zip(movie_table.index, movie_table.values):\n",
    "        for search_date,today_audi in zip(movie_table.keys(), section_audi):\n",
    "            search_date = datetime.datetime.strptime(search_date,'%Y%M%d').date()\n",
    "            if today_audi != -1 : \n",
    "                add_movie_info = KobisMovieInfo(movie_name, search_date, today_audi)\n",
    "                session.merge(add_movie_info)\n",
    "    session.commit()\n",
    "    session.close()\n",
    "            \n",
    "    return \"Inserted Succesfully\""
   ]
  },
  {
   "cell_type": "code",
   "execution_count": 31,
   "metadata": {},
   "outputs": [],
   "source": [
    "#영화명, 관객수, 조회일 크롤링해온다음 디비에 저장시킴, 저장시킨걸 데이터프레임으로 보여줌\n",
    "def get_movie_audiance_num_per_date(input_date, time_section):\n",
    "    #params : week or month\n",
    "    input_date = datetime.datetime.strptime(input_date,'%Y-%m-%d')\n",
    "    searching_date = []\n",
    "\n",
    "    if not input_date:\n",
    "        print(\"오늘날짜 업데이트가 되지 않았어요ㅜㅜ 어제날짜로 검색하시겠습니까?\")\n",
    "    \n",
    "    while time_section:\n",
    "        searching_date.append(input_date.strftime(\"%Y%m%d\"))\n",
    "        input_date -= datetime.timedelta(days=1)\n",
    "        time_section -= 1\n",
    "\n",
    "\n",
    "    movie_info_per_date = {}\n",
    "    for date_time in searching_date:\n",
    "        base_url = urllib.request.urlopen(f\"http://www.kobis.or.kr/kobisopenapi/webservice/rest/boxoffice/searchDailyBoxOfficeList.json?key={kobis_key}&targetDt={date_time}\")\n",
    "        sources = json.load(base_url)\n",
    "        movie_infos = sources[\"boxOfficeResult\"]['dailyBoxOfficeList']\n",
    "    \n",
    "        audiacc_per_movie = {}\n",
    "        for movie_info in movie_infos:\n",
    "            audiacc_per_movie[movie_info['movieNm']] = movie_info['audiCnt']\n",
    "        movie_info_per_date[date_time] = audiacc_per_movie\n",
    "\n",
    "\n",
    "    movie_table = pd.DataFrame(movie_info_per_date)\n",
    "    movie_table[\"sum\"] = movie_table.sum(axis = 1)\n",
    "    movie_table = movie_table.sort_values(by = \"sum\", ascending= False)[:5]\n",
    "    del movie_table[\"sum\"]\n",
    "    \n",
    "    insert_into_db(movie_table)\n",
    "    return movie_table"
   ]
  },
  {
   "cell_type": "code",
   "execution_count": 33,
   "metadata": {},
   "outputs": [],
   "source": [
    "#디비에있는것 그래프로 그려줌\n",
    "def query_and_draw(start_date, end_date):\n",
    "    session = cnnt.cursor()[2]\n",
    "    start_date = datetime.datetime.strptime(start_date,'%Y-%M-%d').date()\n",
    "    end_date = datetime.datetime.strptime(end_date,'%Y-%M-%d').date()\n",
    "    query = pd.DataFrame(session.query(KobisMovieInfo.movie_name, KobisMovieInfo.search_date,KobisMovieInfo.today_audi).filter(start_date >= KobisMovieInfo.search_date).filter(KobisMovieInfo.search_date >= end_date).all())\n",
    "    movie_table =  pd.DataFrame(index = list(set(query.movie_name)), columns = sorted(list(set(query.search_date))))\n",
    "    \n",
    "    for i in query.values:\n",
    "        movie_table.loc[movie_table.index == i[0] , movie_table.columns == i[1]] = i[2]\n",
    "    movie_table[\"sum\"] = movie_table.sum(axis = 1)\n",
    "    movie_table = movie_table.sort_values(by = \"sum\", ascending= False)[:5]\n",
    "    del movie_table[\"sum\"]\n",
    "    del query\n",
    "    \n",
    "    movie_table.columns = movie_table.columns.map(lambda x : x.strftime('%Y%m%d'))\n",
    "    movie_name = list(movie_table.index)\n",
    "    date_time = movie_table.columns\n",
    "    auc_rate = movie_table.values\n",
    "\n",
    "    plt.figure(figsize = (15,12))\n",
    "    for i in auc_rate:\n",
    "        plt.plot(date_time,i, marker = \"o\")\n",
    "    plt.xlabel(\"Date\")\n",
    "    plt.ylabel(\"AudiAcc\")\n",
    "    plt.autoscale(enable = True, axis = \"y\")\n",
    "    \n",
    "    \n",
    "    font_name = fm.FontProperties(fname = \"./font/NanumGothic.ttf\").get_name()\n",
    "    plt.rc('font', family = font_name)\n",
    "    plt.legend(movie_name, loc = \"best\")\n",
    "    session.close()\n",
    "    return plt.show()\n",
    "    "
   ]
  },
  {
   "cell_type": "code",
   "execution_count": 34,
   "metadata": {},
   "outputs": [
    {
     "ename": "AttributeError",
     "evalue": "'DataFrame' object has no attribute 'movie_name'",
     "output_type": "error",
     "traceback": [
      "\u001b[1;31m---------------------------------------------------------------------------\u001b[0m",
      "\u001b[1;31mAttributeError\u001b[0m                            Traceback (most recent call last)",
      "\u001b[1;32m<ipython-input-34-63d2088353c7>\u001b[0m in \u001b[0;36m<module>\u001b[1;34m()\u001b[0m\n\u001b[1;32m----> 1\u001b[1;33m \u001b[0mquery_and_draw\u001b[0m\u001b[1;33m(\u001b[0m\u001b[1;34m'2018-01-30'\u001b[0m\u001b[1;33m,\u001b[0m\u001b[1;34m'2018-01-15'\u001b[0m\u001b[1;33m)\u001b[0m\u001b[1;33m\u001b[0m\u001b[0m\n\u001b[0m",
      "\u001b[1;32m<ipython-input-33-926d04bea881>\u001b[0m in \u001b[0;36mquery_and_draw\u001b[1;34m(start_date, end_date)\u001b[0m\n\u001b[0;32m      5\u001b[0m     \u001b[0mend_date\u001b[0m \u001b[1;33m=\u001b[0m \u001b[0mdatetime\u001b[0m\u001b[1;33m.\u001b[0m\u001b[0mdatetime\u001b[0m\u001b[1;33m.\u001b[0m\u001b[0mstrptime\u001b[0m\u001b[1;33m(\u001b[0m\u001b[0mend_date\u001b[0m\u001b[1;33m,\u001b[0m\u001b[1;34m'%Y-%M-%d'\u001b[0m\u001b[1;33m)\u001b[0m\u001b[1;33m.\u001b[0m\u001b[0mdate\u001b[0m\u001b[1;33m(\u001b[0m\u001b[1;33m)\u001b[0m\u001b[1;33m\u001b[0m\u001b[0m\n\u001b[0;32m      6\u001b[0m     \u001b[0mquery\u001b[0m \u001b[1;33m=\u001b[0m \u001b[0mpd\u001b[0m\u001b[1;33m.\u001b[0m\u001b[0mDataFrame\u001b[0m\u001b[1;33m(\u001b[0m\u001b[0msession\u001b[0m\u001b[1;33m.\u001b[0m\u001b[0mquery\u001b[0m\u001b[1;33m(\u001b[0m\u001b[0mKobisMovieInfo\u001b[0m\u001b[1;33m.\u001b[0m\u001b[0mmovie_name\u001b[0m\u001b[1;33m,\u001b[0m \u001b[0mKobisMovieInfo\u001b[0m\u001b[1;33m.\u001b[0m\u001b[0msearch_date\u001b[0m\u001b[1;33m,\u001b[0m\u001b[0mKobisMovieInfo\u001b[0m\u001b[1;33m.\u001b[0m\u001b[0mtoday_audi\u001b[0m\u001b[1;33m)\u001b[0m\u001b[1;33m.\u001b[0m\u001b[0mfilter\u001b[0m\u001b[1;33m(\u001b[0m\u001b[0mstart_date\u001b[0m \u001b[1;33m>=\u001b[0m \u001b[0mKobisMovieInfo\u001b[0m\u001b[1;33m.\u001b[0m\u001b[0msearch_date\u001b[0m\u001b[1;33m)\u001b[0m\u001b[1;33m.\u001b[0m\u001b[0mfilter\u001b[0m\u001b[1;33m(\u001b[0m\u001b[0mKobisMovieInfo\u001b[0m\u001b[1;33m.\u001b[0m\u001b[0msearch_date\u001b[0m \u001b[1;33m>=\u001b[0m \u001b[0mend_date\u001b[0m\u001b[1;33m)\u001b[0m\u001b[1;33m.\u001b[0m\u001b[0mall\u001b[0m\u001b[1;33m(\u001b[0m\u001b[1;33m)\u001b[0m\u001b[1;33m)\u001b[0m\u001b[1;33m\u001b[0m\u001b[0m\n\u001b[1;32m----> 7\u001b[1;33m     \u001b[0mmovie_table\u001b[0m \u001b[1;33m=\u001b[0m  \u001b[0mpd\u001b[0m\u001b[1;33m.\u001b[0m\u001b[0mDataFrame\u001b[0m\u001b[1;33m(\u001b[0m\u001b[0mindex\u001b[0m \u001b[1;33m=\u001b[0m \u001b[0mlist\u001b[0m\u001b[1;33m(\u001b[0m\u001b[0mset\u001b[0m\u001b[1;33m(\u001b[0m\u001b[0mquery\u001b[0m\u001b[1;33m.\u001b[0m\u001b[0mmovie_name\u001b[0m\u001b[1;33m)\u001b[0m\u001b[1;33m)\u001b[0m\u001b[1;33m,\u001b[0m \u001b[0mcolumns\u001b[0m \u001b[1;33m=\u001b[0m \u001b[0msorted\u001b[0m\u001b[1;33m(\u001b[0m\u001b[0mlist\u001b[0m\u001b[1;33m(\u001b[0m\u001b[0mset\u001b[0m\u001b[1;33m(\u001b[0m\u001b[0mquery\u001b[0m\u001b[1;33m.\u001b[0m\u001b[0msearch_date\u001b[0m\u001b[1;33m)\u001b[0m\u001b[1;33m)\u001b[0m\u001b[1;33m)\u001b[0m\u001b[1;33m)\u001b[0m\u001b[1;33m\u001b[0m\u001b[0m\n\u001b[0m\u001b[0;32m      8\u001b[0m \u001b[1;33m\u001b[0m\u001b[0m\n\u001b[0;32m      9\u001b[0m     \u001b[1;32mfor\u001b[0m \u001b[0mi\u001b[0m \u001b[1;32min\u001b[0m \u001b[0mquery\u001b[0m\u001b[1;33m.\u001b[0m\u001b[0mvalues\u001b[0m\u001b[1;33m:\u001b[0m\u001b[1;33m\u001b[0m\u001b[0m\n",
      "\u001b[1;32m~\\Miniconda3\\lib\\site-packages\\pandas\\core\\generic.py\u001b[0m in \u001b[0;36m__getattr__\u001b[1;34m(self, name)\u001b[0m\n\u001b[0;32m   3612\u001b[0m             \u001b[1;32mif\u001b[0m \u001b[0mname\u001b[0m \u001b[1;32min\u001b[0m \u001b[0mself\u001b[0m\u001b[1;33m.\u001b[0m\u001b[0m_info_axis\u001b[0m\u001b[1;33m:\u001b[0m\u001b[1;33m\u001b[0m\u001b[0m\n\u001b[0;32m   3613\u001b[0m                 \u001b[1;32mreturn\u001b[0m \u001b[0mself\u001b[0m\u001b[1;33m[\u001b[0m\u001b[0mname\u001b[0m\u001b[1;33m]\u001b[0m\u001b[1;33m\u001b[0m\u001b[0m\n\u001b[1;32m-> 3614\u001b[1;33m             \u001b[1;32mreturn\u001b[0m \u001b[0mobject\u001b[0m\u001b[1;33m.\u001b[0m\u001b[0m__getattribute__\u001b[0m\u001b[1;33m(\u001b[0m\u001b[0mself\u001b[0m\u001b[1;33m,\u001b[0m \u001b[0mname\u001b[0m\u001b[1;33m)\u001b[0m\u001b[1;33m\u001b[0m\u001b[0m\n\u001b[0m\u001b[0;32m   3615\u001b[0m \u001b[1;33m\u001b[0m\u001b[0m\n\u001b[0;32m   3616\u001b[0m     \u001b[1;32mdef\u001b[0m \u001b[0m__setattr__\u001b[0m\u001b[1;33m(\u001b[0m\u001b[0mself\u001b[0m\u001b[1;33m,\u001b[0m \u001b[0mname\u001b[0m\u001b[1;33m,\u001b[0m \u001b[0mvalue\u001b[0m\u001b[1;33m)\u001b[0m\u001b[1;33m:\u001b[0m\u001b[1;33m\u001b[0m\u001b[0m\n",
      "\u001b[1;31mAttributeError\u001b[0m: 'DataFrame' object has no attribute 'movie_name'"
     ]
    }
   ],
   "source": []
  },
  {
   "cell_type": "code",
   "execution_count": 42,
   "metadata": {},
   "outputs": [],
   "source": [
    "def show_movie_trend_graph(movie_table):\n",
    "    \n",
    "    movie_name = list(movie_table.index)\n",
    "    date_time = movie_table.columns\n",
    "    auc_rate = movie_table.values\n",
    "\n",
    "    plt.figure(figsize = (30,20))\n",
    "    for i in auc_rate:\n",
    "        plt.plot(date_time,i, marker = \"o\")\n",
    "    plt.xlabel(\"Date\")\n",
    "    plt.ylabel(\"AudiAcc\")\n",
    "    plt.autoscale(enable = True, axis = \"y\")\n",
    "    \n",
    "    font_name = fm.FontProperties(fname = \"./font/NanumGothic.ttf\").get_name()\n",
    "    plt.rc('font', family = font_name)\n",
    "    plt.legend(movie_name, loc = \"best\")\n",
    "    return plt.show()"
   ]
  },
  {
   "cell_type": "code",
   "execution_count": 43,
   "metadata": {},
   "outputs": [
    {
     "ename": "AttributeError",
     "evalue": "'DataFrame' object has no attribute 'movie_name'",
     "output_type": "error",
     "traceback": [
      "\u001b[1;31m---------------------------------------------------------------------------\u001b[0m",
      "\u001b[1;31mAttributeError\u001b[0m                            Traceback (most recent call last)",
      "\u001b[1;32m<ipython-input-43-63d2088353c7>\u001b[0m in \u001b[0;36m<module>\u001b[1;34m()\u001b[0m\n\u001b[1;32m----> 1\u001b[1;33m \u001b[0mquery_and_draw\u001b[0m\u001b[1;33m(\u001b[0m\u001b[1;34m'2018-01-30'\u001b[0m\u001b[1;33m,\u001b[0m\u001b[1;34m'2018-01-15'\u001b[0m\u001b[1;33m)\u001b[0m\u001b[1;33m\u001b[0m\u001b[0m\n\u001b[0m",
      "\u001b[1;32m<ipython-input-33-926d04bea881>\u001b[0m in \u001b[0;36mquery_and_draw\u001b[1;34m(start_date, end_date)\u001b[0m\n\u001b[0;32m      5\u001b[0m     \u001b[0mend_date\u001b[0m \u001b[1;33m=\u001b[0m \u001b[0mdatetime\u001b[0m\u001b[1;33m.\u001b[0m\u001b[0mdatetime\u001b[0m\u001b[1;33m.\u001b[0m\u001b[0mstrptime\u001b[0m\u001b[1;33m(\u001b[0m\u001b[0mend_date\u001b[0m\u001b[1;33m,\u001b[0m\u001b[1;34m'%Y-%M-%d'\u001b[0m\u001b[1;33m)\u001b[0m\u001b[1;33m.\u001b[0m\u001b[0mdate\u001b[0m\u001b[1;33m(\u001b[0m\u001b[1;33m)\u001b[0m\u001b[1;33m\u001b[0m\u001b[0m\n\u001b[0;32m      6\u001b[0m     \u001b[0mquery\u001b[0m \u001b[1;33m=\u001b[0m \u001b[0mpd\u001b[0m\u001b[1;33m.\u001b[0m\u001b[0mDataFrame\u001b[0m\u001b[1;33m(\u001b[0m\u001b[0msession\u001b[0m\u001b[1;33m.\u001b[0m\u001b[0mquery\u001b[0m\u001b[1;33m(\u001b[0m\u001b[0mKobisMovieInfo\u001b[0m\u001b[1;33m.\u001b[0m\u001b[0mmovie_name\u001b[0m\u001b[1;33m,\u001b[0m \u001b[0mKobisMovieInfo\u001b[0m\u001b[1;33m.\u001b[0m\u001b[0msearch_date\u001b[0m\u001b[1;33m,\u001b[0m\u001b[0mKobisMovieInfo\u001b[0m\u001b[1;33m.\u001b[0m\u001b[0mtoday_audi\u001b[0m\u001b[1;33m)\u001b[0m\u001b[1;33m.\u001b[0m\u001b[0mfilter\u001b[0m\u001b[1;33m(\u001b[0m\u001b[0mstart_date\u001b[0m \u001b[1;33m>=\u001b[0m \u001b[0mKobisMovieInfo\u001b[0m\u001b[1;33m.\u001b[0m\u001b[0msearch_date\u001b[0m\u001b[1;33m)\u001b[0m\u001b[1;33m.\u001b[0m\u001b[0mfilter\u001b[0m\u001b[1;33m(\u001b[0m\u001b[0mKobisMovieInfo\u001b[0m\u001b[1;33m.\u001b[0m\u001b[0msearch_date\u001b[0m \u001b[1;33m>=\u001b[0m \u001b[0mend_date\u001b[0m\u001b[1;33m)\u001b[0m\u001b[1;33m.\u001b[0m\u001b[0mall\u001b[0m\u001b[1;33m(\u001b[0m\u001b[1;33m)\u001b[0m\u001b[1;33m)\u001b[0m\u001b[1;33m\u001b[0m\u001b[0m\n\u001b[1;32m----> 7\u001b[1;33m     \u001b[0mmovie_table\u001b[0m \u001b[1;33m=\u001b[0m  \u001b[0mpd\u001b[0m\u001b[1;33m.\u001b[0m\u001b[0mDataFrame\u001b[0m\u001b[1;33m(\u001b[0m\u001b[0mindex\u001b[0m \u001b[1;33m=\u001b[0m \u001b[0mlist\u001b[0m\u001b[1;33m(\u001b[0m\u001b[0mset\u001b[0m\u001b[1;33m(\u001b[0m\u001b[0mquery\u001b[0m\u001b[1;33m.\u001b[0m\u001b[0mmovie_name\u001b[0m\u001b[1;33m)\u001b[0m\u001b[1;33m)\u001b[0m\u001b[1;33m,\u001b[0m \u001b[0mcolumns\u001b[0m \u001b[1;33m=\u001b[0m \u001b[0msorted\u001b[0m\u001b[1;33m(\u001b[0m\u001b[0mlist\u001b[0m\u001b[1;33m(\u001b[0m\u001b[0mset\u001b[0m\u001b[1;33m(\u001b[0m\u001b[0mquery\u001b[0m\u001b[1;33m.\u001b[0m\u001b[0msearch_date\u001b[0m\u001b[1;33m)\u001b[0m\u001b[1;33m)\u001b[0m\u001b[1;33m)\u001b[0m\u001b[1;33m)\u001b[0m\u001b[1;33m\u001b[0m\u001b[0m\n\u001b[0m\u001b[0;32m      8\u001b[0m \u001b[1;33m\u001b[0m\u001b[0m\n\u001b[0;32m      9\u001b[0m     \u001b[1;32mfor\u001b[0m \u001b[0mi\u001b[0m \u001b[1;32min\u001b[0m \u001b[0mquery\u001b[0m\u001b[1;33m.\u001b[0m\u001b[0mvalues\u001b[0m\u001b[1;33m:\u001b[0m\u001b[1;33m\u001b[0m\u001b[0m\n",
      "\u001b[1;32m~\\Miniconda3\\lib\\site-packages\\pandas\\core\\generic.py\u001b[0m in \u001b[0;36m__getattr__\u001b[1;34m(self, name)\u001b[0m\n\u001b[0;32m   3612\u001b[0m             \u001b[1;32mif\u001b[0m \u001b[0mname\u001b[0m \u001b[1;32min\u001b[0m \u001b[0mself\u001b[0m\u001b[1;33m.\u001b[0m\u001b[0m_info_axis\u001b[0m\u001b[1;33m:\u001b[0m\u001b[1;33m\u001b[0m\u001b[0m\n\u001b[0;32m   3613\u001b[0m                 \u001b[1;32mreturn\u001b[0m \u001b[0mself\u001b[0m\u001b[1;33m[\u001b[0m\u001b[0mname\u001b[0m\u001b[1;33m]\u001b[0m\u001b[1;33m\u001b[0m\u001b[0m\n\u001b[1;32m-> 3614\u001b[1;33m             \u001b[1;32mreturn\u001b[0m \u001b[0mobject\u001b[0m\u001b[1;33m.\u001b[0m\u001b[0m__getattribute__\u001b[0m\u001b[1;33m(\u001b[0m\u001b[0mself\u001b[0m\u001b[1;33m,\u001b[0m \u001b[0mname\u001b[0m\u001b[1;33m)\u001b[0m\u001b[1;33m\u001b[0m\u001b[0m\n\u001b[0m\u001b[0;32m   3615\u001b[0m \u001b[1;33m\u001b[0m\u001b[0m\n\u001b[0;32m   3616\u001b[0m     \u001b[1;32mdef\u001b[0m \u001b[0m__setattr__\u001b[0m\u001b[1;33m(\u001b[0m\u001b[0mself\u001b[0m\u001b[1;33m,\u001b[0m \u001b[0mname\u001b[0m\u001b[1;33m,\u001b[0m \u001b[0mvalue\u001b[0m\u001b[1;33m)\u001b[0m\u001b[1;33m:\u001b[0m\u001b[1;33m\u001b[0m\u001b[0m\n",
      "\u001b[1;31mAttributeError\u001b[0m: 'DataFrame' object has no attribute 'movie_name'"
     ]
    }
   ],
   "source": [
    "query_and_draw('2018-01-30','2018-01-15')"
   ]
  },
  {
   "cell_type": "code",
   "execution_count": 44,
   "metadata": {},
   "outputs": [
    {
     "ename": "InvalidRequestError",
     "evalue": "One or more mappers failed to initialize - can't proceed with initialization of other mappers. Triggering mapper: 'Mapper|ActorsOfMovie|ActorsOfMovie'. Original exception was: Error creating backref 'DirectorOfMovie' on relationship 'ActorsOfMovie.moviecode_connetion': property of that name exists on mapper 'Mapper|BaseMovieInfo|BaseMovieInfo'",
     "output_type": "error",
     "traceback": [
      "\u001b[1;31m---------------------------------------------------------------------------\u001b[0m",
      "\u001b[1;31mInvalidRequestError\u001b[0m                       Traceback (most recent call last)",
      "\u001b[1;32m<ipython-input-44-d01c006ad177>\u001b[0m in \u001b[0;36m<module>\u001b[1;34m()\u001b[0m\n\u001b[1;32m----> 1\u001b[1;33m \u001b[0mmovie_table\u001b[0m \u001b[1;33m=\u001b[0m \u001b[0mget_movie_audiance_num_per_date\u001b[0m\u001b[1;33m(\u001b[0m\u001b[1;34m'2018-01-30'\u001b[0m\u001b[1;33m,\u001b[0m\u001b[1;36m16\u001b[0m\u001b[1;33m)\u001b[0m\u001b[1;33m\u001b[0m\u001b[0m\n\u001b[0m\u001b[0;32m      2\u001b[0m \u001b[1;31m# insert_into_db(movie_table)\u001b[0m\u001b[1;33m\u001b[0m\u001b[1;33m\u001b[0m\u001b[0m\n\u001b[0;32m      3\u001b[0m \u001b[0mshow_movie_trend_graph\u001b[0m\u001b[1;33m(\u001b[0m\u001b[0mmovie_table\u001b[0m\u001b[1;33m)\u001b[0m\u001b[1;33m\u001b[0m\u001b[0m\n",
      "\u001b[1;32m<ipython-input-31-a8bd761f0c51>\u001b[0m in \u001b[0;36mget_movie_audiance_num_per_date\u001b[1;34m(input_date, time_section)\u001b[0m\n\u001b[0;32m     31\u001b[0m     \u001b[1;32mdel\u001b[0m \u001b[0mmovie_table\u001b[0m\u001b[1;33m[\u001b[0m\u001b[1;34m\"sum\"\u001b[0m\u001b[1;33m]\u001b[0m\u001b[1;33m\u001b[0m\u001b[0m\n\u001b[0;32m     32\u001b[0m \u001b[1;33m\u001b[0m\u001b[0m\n\u001b[1;32m---> 33\u001b[1;33m     \u001b[0minsert_into_db\u001b[0m\u001b[1;33m(\u001b[0m\u001b[0mmovie_table\u001b[0m\u001b[1;33m)\u001b[0m\u001b[1;33m\u001b[0m\u001b[0m\n\u001b[0m\u001b[0;32m     34\u001b[0m     \u001b[1;32mreturn\u001b[0m \u001b[0mmovie_table\u001b[0m\u001b[1;33m\u001b[0m\u001b[0m\n",
      "\u001b[1;32m<ipython-input-30-711b88abdd04>\u001b[0m in \u001b[0;36minsert_into_db\u001b[1;34m(movie_table)\u001b[0m\n\u001b[0;32m      7\u001b[0m             \u001b[0msearch_date\u001b[0m \u001b[1;33m=\u001b[0m \u001b[0mdatetime\u001b[0m\u001b[1;33m.\u001b[0m\u001b[0mdatetime\u001b[0m\u001b[1;33m.\u001b[0m\u001b[0mstrptime\u001b[0m\u001b[1;33m(\u001b[0m\u001b[0msearch_date\u001b[0m\u001b[1;33m,\u001b[0m\u001b[1;34m'%Y%M%d'\u001b[0m\u001b[1;33m)\u001b[0m\u001b[1;33m.\u001b[0m\u001b[0mdate\u001b[0m\u001b[1;33m(\u001b[0m\u001b[1;33m)\u001b[0m\u001b[1;33m\u001b[0m\u001b[0m\n\u001b[0;32m      8\u001b[0m             \u001b[1;32mif\u001b[0m \u001b[0mtoday_audi\u001b[0m \u001b[1;33m!=\u001b[0m \u001b[1;33m-\u001b[0m\u001b[1;36m1\u001b[0m \u001b[1;33m:\u001b[0m\u001b[1;33m\u001b[0m\u001b[0m\n\u001b[1;32m----> 9\u001b[1;33m                 \u001b[0madd_movie_info\u001b[0m \u001b[1;33m=\u001b[0m \u001b[0mKobisMovieInfo\u001b[0m\u001b[1;33m(\u001b[0m\u001b[0mmovie_name\u001b[0m\u001b[1;33m,\u001b[0m \u001b[0msearch_date\u001b[0m\u001b[1;33m,\u001b[0m \u001b[0mtoday_audi\u001b[0m\u001b[1;33m)\u001b[0m\u001b[1;33m\u001b[0m\u001b[0m\n\u001b[0m\u001b[0;32m     10\u001b[0m                 \u001b[0msession\u001b[0m\u001b[1;33m.\u001b[0m\u001b[0mmerge\u001b[0m\u001b[1;33m(\u001b[0m\u001b[0madd_movie_info\u001b[0m\u001b[1;33m)\u001b[0m\u001b[1;33m\u001b[0m\u001b[0m\n\u001b[0;32m     11\u001b[0m     \u001b[0msession\u001b[0m\u001b[1;33m.\u001b[0m\u001b[0mcommit\u001b[0m\u001b[1;33m(\u001b[0m\u001b[1;33m)\u001b[0m\u001b[1;33m\u001b[0m\u001b[0m\n",
      "\u001b[1;32m<string>\u001b[0m in \u001b[0;36m__init__\u001b[1;34m(self, movie_name, search_date, today_audi)\u001b[0m\n",
      "\u001b[1;32m~\\Miniconda3\\lib\\site-packages\\sqlalchemy\\orm\\instrumentation.py\u001b[0m in \u001b[0;36m_new_state_if_none\u001b[1;34m(self, instance)\u001b[0m\n\u001b[0;32m    389\u001b[0m                 \u001b[0m_new_state_if_none\u001b[0m\u001b[1;33m(\u001b[0m\u001b[0minstance\u001b[0m\u001b[1;33m)\u001b[0m\u001b[1;33m\u001b[0m\u001b[0m\n\u001b[0;32m    390\u001b[0m         \u001b[1;32melse\u001b[0m\u001b[1;33m:\u001b[0m\u001b[1;33m\u001b[0m\u001b[0m\n\u001b[1;32m--> 391\u001b[1;33m             \u001b[0mstate\u001b[0m \u001b[1;33m=\u001b[0m \u001b[0mself\u001b[0m\u001b[1;33m.\u001b[0m\u001b[0m_state_constructor\u001b[0m\u001b[1;33m(\u001b[0m\u001b[0minstance\u001b[0m\u001b[1;33m,\u001b[0m \u001b[0mself\u001b[0m\u001b[1;33m)\u001b[0m\u001b[1;33m\u001b[0m\u001b[0m\n\u001b[0m\u001b[0;32m    392\u001b[0m             \u001b[0mself\u001b[0m\u001b[1;33m.\u001b[0m\u001b[0m_state_setter\u001b[0m\u001b[1;33m(\u001b[0m\u001b[0minstance\u001b[0m\u001b[1;33m,\u001b[0m \u001b[0mstate\u001b[0m\u001b[1;33m)\u001b[0m\u001b[1;33m\u001b[0m\u001b[0m\n\u001b[0;32m    393\u001b[0m             \u001b[1;32mreturn\u001b[0m \u001b[0mstate\u001b[0m\u001b[1;33m\u001b[0m\u001b[0m\n",
      "\u001b[1;32m~\\Miniconda3\\lib\\site-packages\\sqlalchemy\\util\\langhelpers.py\u001b[0m in \u001b[0;36m__get__\u001b[1;34m(self, obj, cls)\u001b[0m\n\u001b[0;32m    765\u001b[0m         \u001b[1;32mif\u001b[0m \u001b[0mobj\u001b[0m \u001b[1;32mis\u001b[0m \u001b[1;32mNone\u001b[0m\u001b[1;33m:\u001b[0m\u001b[1;33m\u001b[0m\u001b[0m\n\u001b[0;32m    766\u001b[0m             \u001b[1;32mreturn\u001b[0m \u001b[0mself\u001b[0m\u001b[1;33m\u001b[0m\u001b[0m\n\u001b[1;32m--> 767\u001b[1;33m         \u001b[0mobj\u001b[0m\u001b[1;33m.\u001b[0m\u001b[0m__dict__\u001b[0m\u001b[1;33m[\u001b[0m\u001b[0mself\u001b[0m\u001b[1;33m.\u001b[0m\u001b[0m__name__\u001b[0m\u001b[1;33m]\u001b[0m \u001b[1;33m=\u001b[0m \u001b[0mresult\u001b[0m \u001b[1;33m=\u001b[0m \u001b[0mself\u001b[0m\u001b[1;33m.\u001b[0m\u001b[0mfget\u001b[0m\u001b[1;33m(\u001b[0m\u001b[0mobj\u001b[0m\u001b[1;33m)\u001b[0m\u001b[1;33m\u001b[0m\u001b[0m\n\u001b[0m\u001b[0;32m    768\u001b[0m         \u001b[1;32mreturn\u001b[0m \u001b[0mresult\u001b[0m\u001b[1;33m\u001b[0m\u001b[0m\n\u001b[0;32m    769\u001b[0m \u001b[1;33m\u001b[0m\u001b[0m\n",
      "\u001b[1;32m~\\Miniconda3\\lib\\site-packages\\sqlalchemy\\orm\\instrumentation.py\u001b[0m in \u001b[0;36m_state_constructor\u001b[1;34m(self)\u001b[0m\n\u001b[0;32m    219\u001b[0m     \u001b[1;33m@\u001b[0m\u001b[0mutil\u001b[0m\u001b[1;33m.\u001b[0m\u001b[0mmemoized_property\u001b[0m\u001b[1;33m\u001b[0m\u001b[0m\n\u001b[0;32m    220\u001b[0m     \u001b[1;32mdef\u001b[0m \u001b[0m_state_constructor\u001b[0m\u001b[1;33m(\u001b[0m\u001b[0mself\u001b[0m\u001b[1;33m)\u001b[0m\u001b[1;33m:\u001b[0m\u001b[1;33m\u001b[0m\u001b[0m\n\u001b[1;32m--> 221\u001b[1;33m         \u001b[0mself\u001b[0m\u001b[1;33m.\u001b[0m\u001b[0mdispatch\u001b[0m\u001b[1;33m.\u001b[0m\u001b[0mfirst_init\u001b[0m\u001b[1;33m(\u001b[0m\u001b[0mself\u001b[0m\u001b[1;33m,\u001b[0m \u001b[0mself\u001b[0m\u001b[1;33m.\u001b[0m\u001b[0mclass_\u001b[0m\u001b[1;33m)\u001b[0m\u001b[1;33m\u001b[0m\u001b[0m\n\u001b[0m\u001b[0;32m    222\u001b[0m         \u001b[1;32mreturn\u001b[0m \u001b[0mstate\u001b[0m\u001b[1;33m.\u001b[0m\u001b[0mInstanceState\u001b[0m\u001b[1;33m\u001b[0m\u001b[0m\n\u001b[0;32m    223\u001b[0m \u001b[1;33m\u001b[0m\u001b[0m\n",
      "\u001b[1;32m~\\Miniconda3\\lib\\site-packages\\sqlalchemy\\event\\attr.py\u001b[0m in \u001b[0;36m__call__\u001b[1;34m(self, *args, **kw)\u001b[0m\n\u001b[0;32m    282\u001b[0m             \u001b[0mfn\u001b[0m\u001b[1;33m(\u001b[0m\u001b[1;33m*\u001b[0m\u001b[0margs\u001b[0m\u001b[1;33m,\u001b[0m \u001b[1;33m**\u001b[0m\u001b[0mkw\u001b[0m\u001b[1;33m)\u001b[0m\u001b[1;33m\u001b[0m\u001b[0m\n\u001b[0;32m    283\u001b[0m         \u001b[1;32mfor\u001b[0m \u001b[0mfn\u001b[0m \u001b[1;32min\u001b[0m \u001b[0mself\u001b[0m\u001b[1;33m.\u001b[0m\u001b[0mlisteners\u001b[0m\u001b[1;33m:\u001b[0m\u001b[1;33m\u001b[0m\u001b[0m\n\u001b[1;32m--> 284\u001b[1;33m             \u001b[0mfn\u001b[0m\u001b[1;33m(\u001b[0m\u001b[1;33m*\u001b[0m\u001b[0margs\u001b[0m\u001b[1;33m,\u001b[0m \u001b[1;33m**\u001b[0m\u001b[0mkw\u001b[0m\u001b[1;33m)\u001b[0m\u001b[1;33m\u001b[0m\u001b[0m\n\u001b[0m\u001b[0;32m    285\u001b[0m \u001b[1;33m\u001b[0m\u001b[0m\n\u001b[0;32m    286\u001b[0m     \u001b[1;32mdef\u001b[0m \u001b[0m__len__\u001b[0m\u001b[1;33m(\u001b[0m\u001b[0mself\u001b[0m\u001b[1;33m)\u001b[0m\u001b[1;33m:\u001b[0m\u001b[1;33m\u001b[0m\u001b[0m\n",
      "\u001b[1;32m~\\Miniconda3\\lib\\site-packages\\sqlalchemy\\orm\\mapper.py\u001b[0m in \u001b[0;36m_event_on_first_init\u001b[1;34m(manager, cls)\u001b[0m\n\u001b[0;32m   3137\u001b[0m     \u001b[1;32mif\u001b[0m \u001b[0minstrumenting_mapper\u001b[0m\u001b[1;33m:\u001b[0m\u001b[1;33m\u001b[0m\u001b[0m\n\u001b[0;32m   3138\u001b[0m         \u001b[1;32mif\u001b[0m \u001b[0mMapper\u001b[0m\u001b[1;33m.\u001b[0m\u001b[0m_new_mappers\u001b[0m\u001b[1;33m:\u001b[0m\u001b[1;33m\u001b[0m\u001b[0m\n\u001b[1;32m-> 3139\u001b[1;33m             \u001b[0mconfigure_mappers\u001b[0m\u001b[1;33m(\u001b[0m\u001b[1;33m)\u001b[0m\u001b[1;33m\u001b[0m\u001b[0m\n\u001b[0m\u001b[0;32m   3140\u001b[0m \u001b[1;33m\u001b[0m\u001b[0m\n\u001b[0;32m   3141\u001b[0m \u001b[1;33m\u001b[0m\u001b[0m\n",
      "\u001b[1;32m~\\Miniconda3\\lib\\site-packages\\sqlalchemy\\orm\\mapper.py\u001b[0m in \u001b[0;36mconfigure_mappers\u001b[1;34m()\u001b[0m\n\u001b[0;32m   3024\u001b[0m                         % (mapper, mapper._configure_failed))\n\u001b[0;32m   3025\u001b[0m                     \u001b[0me\u001b[0m\u001b[1;33m.\u001b[0m\u001b[0m_configure_failed\u001b[0m \u001b[1;33m=\u001b[0m \u001b[0mmapper\u001b[0m\u001b[1;33m.\u001b[0m\u001b[0m_configure_failed\u001b[0m\u001b[1;33m\u001b[0m\u001b[0m\n\u001b[1;32m-> 3026\u001b[1;33m                     \u001b[1;32mraise\u001b[0m \u001b[0me\u001b[0m\u001b[1;33m\u001b[0m\u001b[0m\n\u001b[0m\u001b[0;32m   3027\u001b[0m                 \u001b[1;32mif\u001b[0m \u001b[1;32mnot\u001b[0m \u001b[0mmapper\u001b[0m\u001b[1;33m.\u001b[0m\u001b[0mconfigured\u001b[0m\u001b[1;33m:\u001b[0m\u001b[1;33m\u001b[0m\u001b[0m\n\u001b[0;32m   3028\u001b[0m                     \u001b[1;32mtry\u001b[0m\u001b[1;33m:\u001b[0m\u001b[1;33m\u001b[0m\u001b[0m\n",
      "\u001b[1;31mInvalidRequestError\u001b[0m: One or more mappers failed to initialize - can't proceed with initialization of other mappers. Triggering mapper: 'Mapper|ActorsOfMovie|ActorsOfMovie'. Original exception was: Error creating backref 'DirectorOfMovie' on relationship 'ActorsOfMovie.moviecode_connetion': property of that name exists on mapper 'Mapper|BaseMovieInfo|BaseMovieInfo'"
     ]
    }
   ],
   "source": [
    "movie_table = get_movie_audiance_num_per_date('2018-01-30',16)\n",
    "# insert_into_db(movie_table)\n",
    "show_movie_trend_graph(movie_table)"
   ]
  },
  {
   "cell_type": "code",
   "execution_count": null,
   "metadata": {},
   "outputs": [],
   "source": [
    "movie_table"
   ]
  },
  {
   "cell_type": "code",
   "execution_count": null,
   "metadata": {},
   "outputs": [],
   "source": [
    "query_and_draw()"
   ]
  },
  {
   "cell_type": "code",
   "execution_count": null,
   "metadata": {},
   "outputs": [],
   "source": [
    "# movie_table"
   ]
  },
  {
   "cell_type": "code",
   "execution_count": null,
   "metadata": {},
   "outputs": [],
   "source": []
  },
  {
   "cell_type": "code",
   "execution_count": null,
   "metadata": {},
   "outputs": [],
   "source": [
    "# datetime.datetime.today() - datetime.datetime.strftime(\"2018-06-05\",\"%Y%m%d\")\n",
    "# (datetime.datetime.today()- datetime.datetime.strptime(\"2018-06-05\",'%Y-%m-%d'))"
   ]
  },
  {
   "cell_type": "code",
   "execution_count": null,
   "metadata": {},
   "outputs": [],
   "source": []
  },
  {
   "cell_type": "code",
   "execution_count": null,
   "metadata": {},
   "outputs": [],
   "source": []
  },
  {
   "cell_type": "code",
   "execution_count": null,
   "metadata": {},
   "outputs": [],
   "source": [
    "day = 7\n",
    "today = datetime.datetime.today() - datetime.timedelta(days=2)\n",
    "searching_date = []\n",
    "while day:\n",
    "    day -= 1\n",
    "    today -= datetime.timedelta(days=1)\n",
    "    searching_date.append(today.strftime(\"%Y%m%d\"))\n",
    "\n",
    "\n",
    "movie_info_per_date = {}\n",
    "for date_time in searching_date:\n",
    "    base_url = urllib.request.urlopen(f\"http://www.kobis.or.kr/kobisopenapi/webservice/rest/boxoffice/searchDailyBoxOfficeList.json?key=430156241533f1d058c603178cc3ca0e&targetDt={date_time}\")\n",
    "    sources = json.load(base_url)\n",
    "    movie_infos = sources[\"boxOfficeResult\"]['dailyBoxOfficeList']\n",
    "    \n",
    "    audiacc_per_movie = {}\n",
    "    for movie_info in movie_infos:\n",
    "        audiacc_per_movie[movie_info['movieNm']] = int(movie_info['audiCnt'])\n",
    "    movie_info_per_date[date_time] = audiacc_per_movie\n",
    "\n",
    "\n",
    "week_table = pd.DataFrame(movie_info_per_date).fillna(0)\n",
    "week_table[\"sum\"] = week_table.sum(axis = 1) \n",
    "week_table = week_table.sort_values(by = \"sum\", ascending= False)[:5]\n",
    "del week_table[\"sum\"]\n",
    "\n",
    "movie_name = list(week_table.index)\n",
    "date_time = week_table.columns\n",
    "auc_rate = week_table.values\n",
    "\n",
    "week_table"
   ]
  },
  {
   "cell_type": "code",
   "execution_count": null,
   "metadata": {},
   "outputs": [],
   "source": [
    "movie_trend_graph(\"week\")"
   ]
  },
  {
   "cell_type": "code",
   "execution_count": null,
   "metadata": {},
   "outputs": [],
   "source": []
  },
  {
   "cell_type": "code",
   "execution_count": null,
   "metadata": {},
   "outputs": [],
   "source": []
  }
 ],
 "metadata": {
  "kernelspec": {
   "display_name": "Python 3",
   "language": "python",
   "name": "python3"
  },
  "language_info": {
   "codemirror_mode": {
    "name": "ipython",
    "version": 3
   },
   "file_extension": ".py",
   "mimetype": "text/x-python",
   "name": "python",
   "nbconvert_exporter": "python",
   "pygments_lexer": "ipython3",
   "version": "3.6.4"
  }
 },
 "nbformat": 4,
 "nbformat_minor": 2
}
